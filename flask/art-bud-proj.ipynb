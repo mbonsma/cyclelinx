{
 "cells": [
  {
   "cell_type": "code",
   "execution_count": 1,
   "metadata": {},
   "outputs": [
    {
     "data": {
      "text/plain": [
       "[(' 79', 12),\n",
       " (' 227', 12),\n",
       " (' 901', 12),\n",
       " (' 1247', 12),\n",
       " (' 147', 11),\n",
       " (' 161', 11),\n",
       " (' 76', 11),\n",
       " (' 211', 11),\n",
       " (' 212', 11),\n",
       " (' 925', 11)]"
      ]
     },
     "execution_count": 1,
     "metadata": {},
     "output_type": "execute_result"
    }
   ],
   "source": [
    "from csv import DictReader\n",
    "from collections import Counter\n",
    "\n",
    "with open(\"/code/data/optimal_project_lists.csv\") as f:\n",
    "    projects = {}\n",
    "    reader = DictReader(f)\n",
    "    for row in reader:\n",
    "        projects[row[\"budget\"]] = row[\"projects\"]\n",
    "\n",
    "# counts of total arterials\n",
    "counts = Counter()\n",
    "\n",
    "# list of project ids keyed by budget\n",
    "proj_by_budget = {}\n",
    "\n",
    "for k, v in projects.items():\n",
    "    project_list = v.replace(\"[\", \"\").replace(\"]\", \"\").split(\",\")\n",
    "    counts.update(project_list)\n",
    "    assert len(set(project_list)) == len(project_list), f\"{k} has duplicate projects\"\n",
    "    proj_by_budget.update({k: project_list})\n",
    "\n",
    "# some arterials are included in many budgets, which is expected\n",
    "print(counts.most_common(10))"
   ]
  },
  {
   "cell_type": "code",
   "execution_count": 2,
   "metadata": {},
   "outputs": [
    {
     "name": "stdout",
     "output_type": "stream",
     "text": [
      "[(5691, 3), (5671, 3), (5663, 3), (8706, 3), (8511, 3)]\n",
      "[51, 53, 310]\n",
      "[5663, 5671, 5691]\n",
      "[5622, 5630, 5631, 5633, 5663, 5666, 5671, 5672, 5674, 5675, 5682, 5683, 5684, 5685, 5686, 5691]\n",
      "[5637, 5663, 5671, 5691]\n"
     ]
    }
   ],
   "source": [
    "import pickle\n",
    "from typing import List\n",
    "from collections import defaultdict, Counter\n",
    "\n",
    "# counts of arterial ids in the proj2art mapping\n",
    "# if each arterial belongs to only one mapping, we'd expect every value to have a count of 1\n",
    "count = Counter()\n",
    "\n",
    "# mapping of arterials ids to projects ids\n",
    "# if each arterial belongs to only one mapping, we'd expect every value to have a length of 1\n",
    "art2proj = defaultdict(lambda: [])\n",
    "\n",
    "# mapping of project ids to arterials\n",
    "proj2art = defaultdict(lambda: [])\n",
    "\n",
    "# mapping of budgets to arterials\n",
    "art_by_budg = {}\n",
    "\n",
    "with open(\"/code/data/proj2artid.pkl\", \"rb\") as f:\n",
    "    mapping: List[List[int]] = pickle.load(f)\n",
    "\n",
    "for i, l in enumerate(mapping):\n",
    "    count.update(l)\n",
    "    proj2art.update({i: l})\n",
    "    for v in l:\n",
    "        art2proj.update({v: art2proj[v] + [i]})\n",
    "\n",
    "\n",
    "for k, v in proj_by_budget.items():\n",
    "    art_by_budg[k] = []\n",
    "\n",
    "for k, v in proj_by_budget.items():\n",
    "    for proj in v:\n",
    "        art_by_budg[k] += proj2art[int(proj)]\n",
    "\n",
    "# does every budget have a unique list of arterials underlying the project list?\n",
    "for budget_id, arterial_list in art_by_budg.items():\n",
    "    assert len(arterial_list) == len(\n",
    "        set(arterial_list)\n",
    "    ), f\"budget {budget_id} has duplicate arterials!\"\n",
    "\n",
    "# Yes, it does, which means that project-arterial-budget is unique, if not project-arterial\n",
    "\n",
    "# are some arterial ids included in multiple projects?\n",
    "print(count.most_common(5))\n",
    "# Yes. For example, arterial 5691 is in projects 51, 53, 310.\n",
    "print(art2proj[5691])\n",
    "\n",
    "# assert that the previous holds in the original mapping\n",
    "# that is, that arterial 5691 is in mappings 51, 53, 310\n",
    "assert 5691 in mapping[51]\n",
    "assert 5691 in mapping[53]\n",
    "assert 5691 in mapping[310]\n",
    "\n",
    "# display the projects that contain arterial 5691\n",
    "# and note that both 310 and 53 contain 51 (not sure it matters at all)\n",
    "print(sorted(mapping[51]))\n",
    "print(sorted(mapping[53]))\n",
    "print(sorted(mapping[310]))"
   ]
  }
 ],
 "metadata": {
  "kernelspec": {
   "display_name": "poetry-env",
   "language": "python",
   "name": "python3"
  },
  "language_info": {
   "codemirror_mode": {
    "name": "ipython",
    "version": 3
   },
   "file_extension": ".py",
   "mimetype": "text/x-python",
   "name": "python",
   "nbconvert_exporter": "python",
   "pygments_lexer": "ipython3",
   "version": "3.10.13"
  }
 },
 "nbformat": 4,
 "nbformat_minor": 2
}
